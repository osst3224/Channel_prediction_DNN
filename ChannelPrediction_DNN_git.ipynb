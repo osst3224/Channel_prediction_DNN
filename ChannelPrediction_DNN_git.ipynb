{
  "cells": [
    {
      "cell_type": "code",
      "execution_count": 31,
      "metadata": {
        "id": "zmFQ9ZB-J9yp"
      },
      "outputs": [],
      "source": [
        "import os\n",
        "import time\n",
        "import math\n",
        "import scipy.io\n",
        "\n",
        "import numpy as np\n",
        "import pandas as pd\n",
        "\n",
        "import matplotlib.pyplot as plt\n",
        "import seaborn as sns\n",
        "\n",
        "import torch\n",
        "import torch.nn as nn\n",
        "from torch.utils.data import TensorDataset, DataLoader\n",
        "import torch.nn.functional as F\n",
        "\n",
        "import torch.nn as nn \n",
        "from torch import nn, Tensor\n",
        "import torch.nn.functional as F\n",
        "\n",
        "from sklearn.preprocessing import MinMaxScaler\n",
        "from sklearn.utils import shuffle\n",
        "\n"
      ]
    },
    {
      "cell_type": "code",
      "execution_count": 2,
      "metadata": {
        "colab": {
          "base_uri": "https://localhost:8080/"
        },
        "id": "0TJJxwIRKo2K",
        "outputId": "604fb1ac-e7bf-4f72-bca7-c1dce4e523e8"
      },
      "outputs": [
        {
          "output_type": "stream",
          "name": "stdout",
          "text": [
            "Mounted at /content/drive\n"
          ]
        }
      ],
      "source": [
        "from google.colab import drive \n",
        "drive.mount('/content/drive')\n",
        "\n",
        "kmh = 20"
      ]
    },
    {
      "cell_type": "code",
      "source": [
        "if kmh == 20:\n",
        "  mat = scipy.io.loadmat('drive/MyDrive/KanalMedAPLseed2365.mat')\n",
        "  mat = mat['channel_FD']\n",
        "  channel11 = mat[0, 0].swapaxes(1,2)\n",
        "  channel12 = mat[0, 1].swapaxes(1,2)\n",
        "  channel21 = mat[1, 0].swapaxes(1,2)\n",
        "  channel22 = mat[1, 1].swapaxes(1,2)\n",
        "  subcarriers = channel11.shape[0]\n",
        "  subcarriers = 200\n",
        "  channel11 = channel11[:subcarriers]\n",
        "  channel12 = channel12[:subcarriers]\n",
        "  channel21 = channel21[:subcarriers]\n",
        "  channel22 = channel22[:subcarriers]\n",
        "  t = channel11.shape[1]*channel11.shape[2]\n",
        "  MIMO = 4\n",
        "  H = np.zeros([2*MIMO*subcarriers*t])\n",
        "  H_noise = np.zeros_like(H)\n",
        "\n",
        "  H[:subcarriers*2*t:2] = np.real(channel11.flatten())\n",
        "  H[1:subcarriers*2*t:2] = np.imag(channel11.flatten())\n",
        "  H[subcarriers*2*t:2*subcarriers*2*t:2] = np.real(channel12.flatten())\n",
        "  H[subcarriers*2*t+1:2*subcarriers*2*t:2] = np.imag(channel12.flatten())\n",
        "  H[2*subcarriers*2*t:3*subcarriers*2*t:2] = np.real(channel21.flatten())\n",
        "  H[2*subcarriers*2*t+1:3*subcarriers*2*t:2] = np.imag(channel21.flatten())\n",
        "  H[3*subcarriers*2*t:4*subcarriers*2*t:2] = np.real(channel22.flatten())\n",
        "  H[3*subcarriers*2*t+1:4*subcarriers*2*t:2] = np.imag(channel22.flatten())\n",
        "  H = H.astype(float)\n",
        "  H = H.reshape([-1,1])\n",
        "elif kmh == 3:\n",
        "  mat = scipy.io.loadmat('drive/MyDrive/ChannelFD2Darrays.mat')\n",
        "  channel11 = mat['channe11']\n",
        "  channel12 = mat['channe12']\n",
        "  channel21 = mat['channe21']\n",
        "  channel22 = mat['channe22']\n",
        "  subcarriers = channel11.shape[0]\n",
        "  subcarriers = 200\n",
        "  channel11 = channel11[:subcarriers]\n",
        "  channel12 = channel12[:subcarriers]\n",
        "  channel21 = channel21[:subcarriers]\n",
        "  channel22 = channel22[:subcarriers]\n",
        "  t = channel11.shape[1]\n",
        "  MIMO = 4\n",
        "  H = np.zeros([2*MIMO*subcarriers*t])\n",
        "  H_noise = np.zeros_like(H)\n",
        "\n",
        "  H[:subcarriers*2*t:2] = np.real(channel11.flatten())\n",
        "  H[1:subcarriers*2*t:2] = np.imag(channel11.flatten())\n",
        "  H[subcarriers*2*t:2*subcarriers*2*t:2] = np.real(channel12.flatten())\n",
        "  H[subcarriers*2*t+1:2*subcarriers*2*t:2] = np.imag(channel12.flatten())\n",
        "  H[2*subcarriers*2*t:3*subcarriers*2*t:2] = np.real(channel21.flatten())\n",
        "  H[2*subcarriers*2*t+1:3*subcarriers*2*t:2] = np.imag(channel21.flatten())\n",
        "  H[3*subcarriers*2*t:4*subcarriers*2*t:2] = np.real(channel22.flatten())\n",
        "  H[3*subcarriers*2*t+1:4*subcarriers*2*t:2] = np.imag(channel22.flatten())\n",
        "  H = H.astype(float)\n",
        "  H = H.reshape([-1,1])"
      ],
      "metadata": {
        "id": "5chFtXno78OD"
      },
      "execution_count": 3,
      "outputs": []
    },
    {
      "cell_type": "code",
      "execution_count": 4,
      "metadata": {
        "id": "RY8rFBVKKYfM"
      },
      "outputs": [],
      "source": [
        "MIMO = 1"
      ]
    },
    {
      "cell_type": "code",
      "execution_count": 5,
      "metadata": {
        "id": "Aaxd8JLe1XOA"
      },
      "outputs": [],
      "source": [
        "SNR_dB = 20\n",
        "mat_noise = scipy.io.loadmat('drive/MyDrive/H_noise.mat')"
      ]
    },
    {
      "cell_type": "code",
      "execution_count": 6,
      "metadata": {
        "id": "ttyf2UiI6ZlA"
      },
      "outputs": [],
      "source": [
        "if mat_noise['SNR_dB'] == 20:\n",
        "  H_noisy = mat_noise['H_noise']\n",
        "  H_noisy = H_noisy.reshape(-1,1)\n",
        "else:\n",
        "  var_H = np.var(H)\n",
        "  var_noise = var_H/(10**(SNR_dB/10))\n",
        "  H_noisy = np.random.normal(size=H.shape, scale=np.sqrt(var_noise))\n",
        "  scipy.io.savemat('drive/MyDrive/H_noise.mat', {'SNR_dB': SNR_dB, \n",
        "                                                 'H_noise': H_noisy})"
      ]
    },
    {
      "cell_type": "code",
      "source": [
        "#H_noisy = np.zeros_like(H_noisy)"
      ],
      "metadata": {
        "id": "bJcFf0h615h4"
      },
      "execution_count": 7,
      "outputs": []
    },
    {
      "cell_type": "code",
      "execution_count": 8,
      "metadata": {
        "id": "eDrcNYBR9fic"
      },
      "outputs": [],
      "source": [
        "# Get to operate for both train and test dataset\n",
        "\n",
        "def dataset_MIMO(dataset, noisy_dataset, step, lookback=4, samples=100000, model_type='GRU', offset=0, horizon=0, past=0): \n",
        "  h = int(horizon/step)\n",
        "  horizon = horizon-step\n",
        "\n",
        "  # Define lookback period and split inputs/labels\n",
        "  #subcarriers = 624 # Already defined above\n",
        "  sc = math.ceil(samples/(t-lookback*step))\n",
        "\n",
        "  if sc <= subcarriers:\n",
        "    inputs = np.zeros((sc*(t-lookback*step), lookback, 2*MIMO))\n",
        "    labels = np.zeros((sc*(t-lookback*step), past+h, 2*MIMO))\n",
        "    labels_clean = np.zeros((sc*(t-lookback*step), past+h, 2*MIMO))\n",
        "\n",
        "  else: \n",
        "    while sc <= subcarriers:\n",
        "      samples = samples*subcarriers/sc\n",
        "      sc = math.ceil(samples/(t-lookback*step))\n",
        "      \n",
        "    print('Observe that the number of data points available in this setting are ' + str(samples))\n",
        "    inputs = np.zeros((samples, lookback, 2*MIMO))\n",
        "    labels = np.zeros((samples, past+h, 2*MIMO))\n",
        "    labels_clean = np.zeros((samples, past+h, 2*MIMO))\n",
        "\n",
        "  jump = 20\n",
        "  for i in range(0, sc*jump, jump):\n",
        "      p = 2*t*(i+offset) # To jump to the current subcarrier\n",
        "      for j in range(2*lookback*step, 2*t, 2):     \n",
        "        for m in range(MIMO):\n",
        "\n",
        "          q = 2*subcarriers*t*m # To jump to the current antenna array (MIMO)\n",
        "          s = q+p+j-(2*lookback*step) # First index for retrieving data. The current position minus the lookback\n",
        "          e = q+p+j # Last index for retrieving data\n",
        "\n",
        "          c = int(i/jump)*(t-lookback*step) + int(j/2)-lookback*step # The current position to store data\n",
        "\n",
        "          inputs[c, :, 2*m] = dataset[s:e:2*step].reshape(lookback) + noisy_dataset[s:e:2*step].reshape(lookback)\n",
        "          inputs[c, :, 2*m+1] = dataset[s+1:e+1:2*step].reshape(lookback) + noisy_dataset[s+1:e+1:2*step].reshape(lookback)\n",
        "          \n",
        "          labels_clean[c, :, 2*m] = dataset[e-2*past*step:e+2*horizon+2:2*step,0]#.reshape(-1,1+past+h,2) #::ts_step , past*step\n",
        "          labels_clean[c, :, 2*m+1] = dataset[e-2*past*step+1:e+2*horizon+2+1:2*step,0]#.reshape(-1,1+past+h,2) #::ts_step , past*step\n",
        "          labels[c, :, 2*m] = noisy_dataset[e-2*past*step:e+2*horizon+2:2*step,0] + dataset[e-2*past*step:e+2*horizon+2:2*step,0]#.reshape(-1,1+past+h,2)\n",
        "          labels[c, :, 2*m+1] = noisy_dataset[e-2*past*step+1:e+2*horizon+2+1:2*step,0] + dataset[e-2*past*step+1:e+2*horizon+2+1:2*step,0]#.reshape(-1,1+past+h,2)\n",
        "\n",
        "  inputs = inputs[:samples]\n",
        "  labels = labels[:samples]\n",
        "  labels_clean = labels_clean[:samples]\n",
        "\n",
        "\n",
        "\n",
        "  return inputs, labels, labels_clean"
      ]
    },
    {
      "cell_type": "code",
      "execution_count": 9,
      "metadata": {
        "id": "74IU1Hs-5B7a"
      },
      "outputs": [],
      "source": [
        "def scaler_transform(X_list):#, x_max, x_min):\n",
        "  if type(X_list) == list:\n",
        "    X_scaled = []\n",
        "    for X in X_list:\n",
        "      X_scaled.append((X-x_min)/(x_max-x_min))\n",
        "  else:\n",
        "    X_scaled = (X_list[0]-x_min)/(x_max-x_min)\n",
        "    \n",
        "  return X_scaled\n",
        "  \n",
        "\n",
        "def scaler_inv_transform(X_list):#, x_max, x_min):\n",
        "  if type(X_list) == list:\n",
        "    X_std = []\n",
        "    for X in X_list:\n",
        "      X_std.append(X * (x_max-x_min)+x_min)\n",
        "      \n",
        "  else:\n",
        "    X_std = X_list * (x_max-x_min)+x_min\n",
        "    \n",
        "  return X_std"
      ]
    },
    {
      "cell_type": "code",
      "execution_count": 10,
      "metadata": {
        "id": "qrI5LiYWJ9y1"
      },
      "outputs": [],
      "source": [
        "# torch.cuda.is_available() checks and returns a Boolean True if a GPU is available, else it'll return False\n",
        "is_cuda = torch.cuda.is_available()\n",
        "\n",
        "# If we have a GPU available, we'll set our device to GPU. We'll use this device variable later in our code.\n",
        "if is_cuda:\n",
        "    device = torch.device(\"cuda\")\n",
        "else:\n",
        "    device = torch.device(\"cpu\")"
      ]
    },
    {
      "cell_type": "code",
      "source": [
        "class PositionalEncoder(nn.Module):\n",
        "    \"\"\"\n",
        "    The authors of the original transformer paper describe very succinctly what \n",
        "    the positional encoding layer does and why it is needed:\n",
        "    \n",
        "    \"Since our model contains no recurrence and no convolution, in order for the \n",
        "    model to make use of the order of the sequence, we must inject some \n",
        "    information about the relative or absolute position of the tokens in the \n",
        "    sequence.\" (Vaswani et al, 2017)\n",
        "    Adapted from: \n",
        "    https://pytorch.org/tutorials/beginner/transformer_tutorial.html\n",
        "    \"\"\"\n",
        "\n",
        "    def __init__(\n",
        "        self, \n",
        "        dropout: float=0.1, \n",
        "        max_seq_len: int=5000, \n",
        "        d_model: int=512,\n",
        "        batch_first: bool=False\n",
        "        ):\n",
        "\n",
        "        \"\"\"\n",
        "        Parameters:\n",
        "            dropout: the dropout rate\n",
        "            max_seq_len: the maximum length of the input sequences\n",
        "            d_model: The dimension of the output of sub-layers in the model \n",
        "                     (Vaswani et al, 2017)\n",
        "        \"\"\"\n",
        "\n",
        "        super().__init__()\n",
        "\n",
        "        self.d_model = d_model\n",
        "        \n",
        "        self.dropout = nn.Dropout(p=dropout)\n",
        "\n",
        "        self.batch_first = batch_first\n",
        "\n",
        "        self.x_dim = 1 if batch_first else 0\n",
        "\n",
        "        # copy pasted from PyTorch tutorial\n",
        "        position = torch.arange(max_seq_len).unsqueeze(1)\n",
        "        \n",
        "        div_term = torch.exp(torch.arange(0, d_model, 2) * (-math.log(10000.0) / d_model))\n",
        "        \n",
        "        #pe = torch.zeros(max_seq_len, 1, d_model)\n",
        "        pe = torch.zeros(max_seq_len, d_model)\n",
        "\n",
        "        #pe[:, 0, 0::2] = torch.sin(position * div_term)\n",
        "        #pe[:, 0, 1::2] = torch.cos(position * div_term)\n",
        "\n",
        "        pe[:, 0::2] = torch.sin(position * div_term)\n",
        "        pe[:, 1::2] = torch.cos(position * div_term)\n",
        "        \n",
        "        #pe = torch.zeros(1, max_seq_len, d_model)\n",
        "        #pe[0, :, 0::2] = torch.sin(position * div_term)\n",
        "        #pe[0, :, 1::2] = torch.cos(position * div_term)\n",
        "        \n",
        "        self.register_buffer('pe', pe)\n",
        "        \n",
        "    def forward(self, x: Tensor) -> Tensor:\n",
        "        \"\"\"\n",
        "        Args:\n",
        "            x: Tensor, shape [batch_size, enc_seq_len, dim_val] or \n",
        "               [enc_seq_len, batch_size, dim_val]\n",
        "        \"\"\"\n",
        "        \n",
        "        x = x + self.pe[:x.size(self.x_dim)]\n",
        "\n",
        "        return self.dropout(x)"
      ],
      "metadata": {
        "id": "DQGEZRaxpOXk"
      },
      "execution_count": 11,
      "outputs": []
    },
    {
      "cell_type": "code",
      "source": [
        "class TimeSeriesTransformer(nn.Module):\n",
        "\n",
        "    def __init__(self, \n",
        "        input_size: int,\n",
        "        dec_seq_len: int,\n",
        "        batch_first: bool,\n",
        "        max_seq_len: int,\n",
        "        out_seq_len: int=1,\n",
        "        dim_val: int=512,  \n",
        "        n_encoder_layers: int=4,\n",
        "        n_decoder_layers: int=4,\n",
        "        n_heads: int=8,\n",
        "        dropout_encoder: float=0.2, \n",
        "        dropout_decoder: float=0.2,\n",
        "        dropout_pos_enc: float=0.1,\n",
        "        dim_feedforward_encoder: int=2048,\n",
        "        dim_feedforward_decoder: int=2048,\n",
        "        num_predicted_features: int=2*MIMO\n",
        "        ): \n",
        "\n",
        "        \"\"\"\n",
        "        Args:\n",
        "            input_size: int, number of input variables. 1 if univariate.\n",
        "            dec_seq_len: int, the length of the input sequence fed to the decoder\n",
        "            dim_val: int, aka d_model. All sub-layers in the model produce \n",
        "                     outputs of dimension dim_val\n",
        "            n_encoder_layers: int, number of stacked encoder layers in the encoder\n",
        "            n_decoder_layers: int, number of stacked encoder layers in the decoder\n",
        "            n_heads: int, the number of attention heads (aka parallel attention layers)\n",
        "            dropout_encoder: float, the dropout rate of the encoder\n",
        "            dropout_decoder: float, the dropout rate of the decoder\n",
        "            dropout_pos_enc: float, the dropout rate of the positional encoder\n",
        "            dim_feedforward_encoder: int, number of neurons in the linear layer \n",
        "                                     of the encoder\n",
        "            dim_feedforward_decoder: int, number of neurons in the linear layer \n",
        "                                     of the decoder\n",
        "            num_predicted_features: int, the number of features you want to predict.\n",
        "                                    Most of the time, this will be 1 because we're\n",
        "                                    only forecasting FCR-N prices in DK2, but in\n",
        "                                    we wanted to also predict FCR-D with the same\n",
        "                                    model, num_predicted_features should be 2.\n",
        "        \"\"\"\n",
        "\n",
        "        super().__init__() \n",
        "\n",
        "        self.dec_seq_len = dec_seq_len\n",
        "\n",
        "        #print(\"input_size is: {}\".format(input_size))\n",
        "        #print(\"dim_val is: {}\".format(dim_val))\n",
        "\n",
        "        # Creating the three linear layers needed for the model\n",
        "        self.encoder_input_layer = nn.Linear(\n",
        "            in_features=input_size, \n",
        "            out_features=dim_val \n",
        "            )\n",
        "\n",
        "        self.decoder_input_layer = nn.Linear(\n",
        "            in_features=num_predicted_features,\n",
        "            out_features=dim_val\n",
        "            )  \n",
        "        \n",
        "        self.linear_mapping = nn.Linear(\n",
        "            in_features=dim_val, \n",
        "            out_features=num_predicted_features\n",
        "            )\n",
        "\n",
        "        # Create positional encoder\n",
        "        self.positional_encoding_layer = PositionalEncoder(\n",
        "            d_model=dim_val,\n",
        "            dropout=dropout_pos_enc,\n",
        "            batch_first=batch_first,\n",
        "            max_seq_len=max_seq_len\n",
        "            )\n",
        "\n",
        "        # The encoder layer used in the paper is identical to the one used by\n",
        "        # Vaswani et al (2017) on which the PyTorch module is based.\n",
        "        encoder_layer = nn.TransformerEncoderLayer(\n",
        "            d_model=dim_val, \n",
        "            nhead=n_heads,\n",
        "            dim_feedforward=dim_feedforward_encoder,\n",
        "            dropout=dropout_encoder,\n",
        "            batch_first=batch_first\n",
        "            )\n",
        "\n",
        "        # Stack the encoder layers in nn.TransformerDecoder\n",
        "        # It seems the option of passing a normalization instance is redundant\n",
        "        # in my case, because nn.TransformerEncoderLayer per default normalizes\n",
        "        # after each sub-layer\n",
        "        # (https://github.com/pytorch/pytorch/issues/24930).\n",
        "        self.encoder = nn.TransformerEncoder(\n",
        "            encoder_layer=encoder_layer,\n",
        "            num_layers=n_encoder_layers, \n",
        "            norm=None\n",
        "            )\n",
        "\n",
        "        decoder_layer = nn.TransformerDecoderLayer(\n",
        "            d_model=dim_val,\n",
        "            nhead=n_heads,\n",
        "            dim_feedforward=dim_feedforward_decoder,\n",
        "            dropout=dropout_decoder,\n",
        "            batch_first=batch_first\n",
        "            )\n",
        "\n",
        "        # Stack the decoder layers in nn.TransformerDecoder\n",
        "        # It seems the option of passing a normalization instance is redundant\n",
        "        # in my case, because nn.TransformerDecoderLayer per default normalizes\n",
        "        # after each sub-layer\n",
        "        # (https://github.com/pytorch/pytorch/issues/24930).\n",
        "        self.decoder = nn.TransformerDecoder(\n",
        "            decoder_layer=decoder_layer,\n",
        "            num_layers=n_decoder_layers, \n",
        "            norm=None\n",
        "            )\n",
        "\n",
        "    def forward(self, src: Tensor, tgt: Tensor, src_mask: Tensor=None, \n",
        "                tgt_mask: Tensor=None) -> Tensor:\n",
        "        \"\"\"\n",
        "        Returns a tensor of shape:\n",
        "        [target_sequence_length, batch_size, num_predicted_features]\n",
        "        \n",
        "        Args:\n",
        "            src: the encoder's output sequence. Shape: (S,E) for unbatched input, \n",
        "                 (S, N, E) if batch_first=False or (N, S, E) if \n",
        "                 batch_first=True, where S is the source sequence length, \n",
        "                 N is the batch size, and E is the number of features (1 if univariate)\n",
        "            tgt: the sequence to the decoder. Shape: (T,E) for unbatched input, \n",
        "                 (T, N, E)(T,N,E) if batch_first=False or (N, T, E) if \n",
        "                 batch_first=True, where T is the target sequence length, \n",
        "                 N is the batch size, and E is the number of features (1 if univariate)\n",
        "            src_mask: the mask for the src sequence to prevent the model from \n",
        "                      using data points from the target sequence\n",
        "            tgt_mask: the mask for the tgt sequence to prevent the model from\n",
        "                      using data points from the target sequence\n",
        "        \"\"\"\n",
        "\n",
        "        #print(\"From model.forward(): Size of src as given to forward(): {}\".format(src.size()))\n",
        "        #print(\"From model.forward(): tgt size = {}\".format(tgt.size()))\n",
        "\n",
        "        # Pass throguh the input layer right before the encoder\n",
        "        src = self.encoder_input_layer(src) # src shape: [batch_size, src length, dim_val] regardless of number of input features\n",
        "        #print(\"From model.forward(): Size of src after input layer: {}\".format(src.size()))\n",
        "\n",
        "        # Pass through the positional encoding layer\n",
        "        src = self.positional_encoding_layer(src) # src shape: [batch_size, src length, dim_val] regardless of number of input features\n",
        "        #print(\"From model.forward(): Size of src after pos_enc layer: {}\".format(src.size()))\n",
        "\n",
        "        # Pass through all the stacked encoder layers in the encoder\n",
        "        # Masking is only needed in the encoder if input sequences are padded\n",
        "        # which they are not in this time series use case, because all my\n",
        "        # input sequences are naturally of the same length. \n",
        "        # (https://github.com/huggingface/transformers/issues/4083)\n",
        "        src = self.encoder( # src shape: [batch_size, enc_seq_len, dim_val]\n",
        "            src=src\n",
        "            )\n",
        "        #print(\"From model.forward(): Size of src after encoder: {}\".format(src.size()))\n",
        "\n",
        "        # Pass decoder input through decoder input layer\n",
        "        decoder_output = self.decoder_input_layer(tgt) # src shape: [target sequence length, batch_size, dim_val] regardless of number of input features\n",
        "        #print(\"From model.forward(): Size of decoder_output after linear decoder layer: {}\".format(decoder_output.size()))\n",
        "\n",
        "        #if src_mask is not None:\n",
        "            #print(\"From model.forward(): Size of src_mask: {}\".format(src_mask.size()))\n",
        "        #if tgt_mask is not None:\n",
        "            #print(\"From model.forward(): Size of tgt_mask: {}\".format(tgt_mask.size()))\n",
        "\n",
        "        # Pass throguh decoder - output shape: [batch_size, target seq len, dim_val]\n",
        "        decoder_output = self.decoder(\n",
        "            tgt=decoder_output,\n",
        "            memory=src,\n",
        "            tgt_mask=tgt_mask,\n",
        "            memory_mask=src_mask\n",
        "            )\n",
        "\n",
        "        #print(\"From model.forward(): decoder_output shape after decoder: {}\".format(decoder_output.shape))\n",
        "\n",
        "        # Pass through linear mapping\n",
        "        decoder_output = self.linear_mapping(decoder_output) # shape [batch_size, target seq len]\n",
        "        #print(\"From model.forward(): decoder_output size after linear_mapping = {}\".format(decoder_output.size()))\n",
        "\n",
        "        return decoder_output"
      ],
      "metadata": {
        "id": "_Z3bqmZ9gD3K"
      },
      "execution_count": 12,
      "outputs": []
    },
    {
      "cell_type": "code",
      "source": [
        "def get_src_trg(\n",
        "        self,\n",
        "        sequence: torch.Tensor, \n",
        "        enc_seq_len: int, \n",
        "        target_seq_len: int\n",
        "        ): #-> Tuple[torch.tensor, torch.tensor, torch.tensor]:\n",
        "\n",
        "        \"\"\"\n",
        "        Generate the src (encoder input), trg (decoder input) and trg_y (the target)\n",
        "        sequences from a sequence. \n",
        "        Args:\n",
        "            sequence: tensor, a 1D tensor of length n where \n",
        "                    n = encoder input length + target sequence length  \n",
        "            enc_seq_len: int, the desired length of the input to the transformer encoder\n",
        "            target_seq_len: int, the desired length of the target sequence (the \n",
        "                            one against which the model output is compared)\n",
        "        Return: \n",
        "            src: tensor, 1D, used as input to the transformer model\n",
        "            trg: tensor, 1D, used as input to the transformer model\n",
        "            trg_y: tensor, 1D, the target sequence against which the model output\n",
        "                is compared when computing loss. \n",
        "        \n",
        "        \"\"\"\n",
        "        #print(\"Called dataset.TransformerDataset.get_src_trg\")\n",
        "        assert len(sequence) == enc_seq_len + target_seq_len, \"Sequence length does not equal (input length + target length)\"\n",
        "        \n",
        "        #print(\"From data.TransformerDataset.get_src_trg: sequence shape: {}\".format(sequence.shape))\n",
        "\n",
        "        # encoder input\n",
        "        src = sequence[:enc_seq_len] \n",
        "        \n",
        "        # decoder input. As per the paper, it must have the same dimension as the \n",
        "        # target sequence, and it must contain the last value of src, and all\n",
        "        # values of trg_y except the last (i.e. it must be shifted right by 1)\n",
        "        trg = sequence[enc_seq_len-1:len(sequence)-1]\n",
        "\n",
        "        #print(\"From data.TransformerDataset.get_src_trg: trg shape before slice: {}\".format(trg.shape))\n",
        "\n",
        "        trg = trg[:, 0]\n",
        "\n",
        "        #print(\"From data.TransformerDataset.get_src_trg: trg shape after slice: {}\".format(trg.shape))\n",
        "\n",
        "        if len(trg.shape) == 1:\n",
        "\n",
        "            trg = trg.unsqueeze(-1)\n",
        "\n",
        "            #print(\"From data.TransformerDataset.get_src_trg: trg shape after unsqueeze: {}\".format(trg.shape))\n",
        "\n",
        "        \n",
        "        assert len(trg) == target_seq_len, \"Length of trg does not match target sequence length\"\n",
        "\n",
        "        # The target sequence against which the model output will be compared to compute loss\n",
        "        trg_y = sequence[-target_seq_len:]\n",
        "\n",
        "        #print(\"From data.TransformerDataset.get_src_trg: trg_y shape before slice: {}\".format(trg_y.shape))\n",
        "\n",
        "        # We only want trg_y to consist of the target variable not any potential exogenous variables\n",
        "        trg_y = trg_y[:, 0]\n",
        "\n",
        "        #print(\"From data.TransformerDataset.get_src_trg: trg_y shape after slice: {}\".format(trg_y.shape))\n",
        "\n",
        "        assert len(trg_y) == target_seq_len, \"Length of trg_y does not match target sequence length\"\n",
        "\n",
        "        return src, trg, trg_y.squeeze(-1) # change size from [batch_size, target_seq_len, num_features] to [batch_size, target_seq_len] "
      ],
      "metadata": {
        "id": "-WeHKPzxJdZ-"
      },
      "execution_count": 13,
      "outputs": []
    },
    {
      "cell_type": "code",
      "source": [
        "def generate_square_subsequent_mask(dim1: int, dim2: int) -> Tensor:\n",
        "    \"\"\"\n",
        "    Generates an upper-triangular matrix of -inf, with zeros on diag.\n",
        "    Source:\n",
        "    https://pytorch.org/tutorials/beginner/transformer_tutorial.html\n",
        "    Args:\n",
        "        dim1: int, for both src and tgt masking, this must be target sequence\n",
        "              length\n",
        "        dim2: int, for src masking this must be encoder sequence length (i.e. \n",
        "              the length of the input sequence to the model), \n",
        "              and for tgt masking, this must be target sequence length \n",
        "    Return:\n",
        "        A Tensor of shape [dim1, dim2]\n",
        "    \"\"\"\n",
        "    return torch.triu(torch.ones(dim1, dim2) * float('-inf'), diagonal=1)"
      ],
      "metadata": {
        "id": "bnZlLdQrLtj5"
      },
      "execution_count": 14,
      "outputs": []
    },
    {
      "cell_type": "code",
      "execution_count": 15,
      "metadata": {
        "id": "GOE2tiRmJ9y3"
      },
      "outputs": [],
      "source": [
        "class GRUNet(nn.Module):\n",
        "    def __init__(self, input_dim, hidden_dim, output_dim, n_layers, drop_prob=0.2):\n",
        "        super(GRUNet, self).__init__()\n",
        "        self.hidden_dim = hidden_dim\n",
        "        self.n_layers = n_layers\n",
        "        \n",
        "        self.gru = nn.GRU(input_dim, hidden_dim, n_layers, batch_first=True, dropout=drop_prob)\n",
        "        self.fc = nn.Linear(hidden_dim, output_dim)\n",
        "        self.tanh = nn.Tanh()\n",
        "        #self.sigmoid = nn.Sigmoid()\n",
        "        \n",
        "    def forward(self, x, h):\n",
        "        out, h = self.gru(x, h)\n",
        "        out = self.fc(self.tanh(out[:,-1]))\n",
        "        return out, h\n",
        "    \n",
        "    def init_hidden(self, batch_size):\n",
        "        weight = next(self.parameters()).data\n",
        "        hidden = weight.new(self.n_layers, batch_size, self.hidden_dim).zero_().to(device)\n",
        "          \n",
        "        return hidden"
      ]
    },
    {
      "cell_type": "code",
      "execution_count": 16,
      "metadata": {
        "id": "KsZnOcFoJ9y6"
      },
      "outputs": [],
      "source": [
        "class LSTMNet(nn.Module):\n",
        "    def __init__(self, input_dim, hidden_dim, output_dim, n_layers, drop_prob=0.2):\n",
        "        super(LSTMNet, self).__init__()\n",
        "        self.hidden_dim = hidden_dim\n",
        "        self.n_layers = n_layers\n",
        "        \n",
        "        self.lstm = nn.LSTM(input_dim, hidden_dim, n_layers, batch_first=True, dropout=drop_prob)\n",
        "        self.fc = nn.Linear(hidden_dim, output_dim)\n",
        "        self.tanh = nn.Tanh()\n",
        "        \n",
        "    def forward(self, x, h):\n",
        "        out, h = self.lstm(x, h)\n",
        "        out = self.fc(self.tanh(out[:,-1]))\n",
        "        return out, h\n",
        "    \n",
        "    def init_hidden(self, batch_size):\n",
        "        weight = next(self.parameters()).data\n",
        "        hidden = (weight.new(self.n_layers, batch_size, self.hidden_dim).zero_().to(device),\n",
        "                  weight.new(self.n_layers, batch_size, self.hidden_dim).zero_().to(device))\n",
        "        return hidden"
      ]
    },
    {
      "cell_type": "code",
      "execution_count": 17,
      "metadata": {
        "id": "9uxaizu1Ty9o"
      },
      "outputs": [],
      "source": [
        "def train(model, train_loader, model_type='regular'):\n",
        "    model.train()\n",
        "    train_loss = 0\n",
        "\n",
        "    if model_type in ['GRU', 'LSTM']:\n",
        "      h = model.init_hidden(batch_size)\n",
        "      for x, label, clean_label in train_loader:\n",
        "          optimizer.zero_grad()\n",
        "          out, _ = model(x.to(device).float(), h)\n",
        "          loss = criterion(out, label.to(device).float())\n",
        "          loss.backward()#retain_graph=True)\n",
        "          optimizer.step()\n",
        "          loss = criterion(torch.from_numpy(scaler_inv_transform(out.cpu().detach().numpy())), \n",
        "                           torch.from_numpy(clean_label.numpy()))\n",
        "          train_loss += loss.item()\n",
        "\n",
        "\n",
        "    elif model_type == 'TRANS':\n",
        "      for x, label, clean_label in train_loader:\n",
        "        optimizer.zero_grad()\n",
        "        src = x[:,:enc_seq_len,:]\n",
        "        tgt = x[:,-dec_seq_len:,:]\n",
        "        out = model(src.to(device).float(), tgt.to(device).float(), src_mask=src_mask.to(device).float(), tgt_mask=tgt_mask.to(device).float())\n",
        "        loss = criterion(out, label.to(device).float())\n",
        "        loss.backward()#retain_graph=True)\n",
        "        optimizer.step()\n",
        "        loss = criterion(torch.from_numpy(scaler_inv_transform(out.cpu().detach().numpy()))[:,-1,:], \n",
        "                         torch.from_numpy(clean_label.numpy())[:,-1,:])\n",
        "        train_loss += loss.item()\n",
        "\n",
        "    else: \n",
        "      for i, data in enumerate(train_loader, 0):\n",
        "          x, label, clean_label = data\n",
        "          optimizer.zero_grad()\n",
        "          out = model(x.to(device).float())\n",
        "          loss = criterion(out, label.to(device).float())\n",
        "          loss.backward()\n",
        "          optimizer.step()\n",
        "          loss = criterion(torch.from_numpy(scaler_inv_transform(out.cpu().detach().numpy())), \n",
        "                           torch.from_numpy(clean_label.numpy()))\n",
        "          train_loss += loss.item()\n",
        "\n",
        "    optimizer.zero_grad()\n",
        "\n",
        "    return train_loss/len(train_loader)"
      ]
    },
    {
      "cell_type": "code",
      "execution_count": 33,
      "metadata": {
        "id": "rIZXb5o_RCbh"
      },
      "outputs": [],
      "source": [
        "def evaluate(model, test_x, test_y_clean, test_y, model_type, epoch):\n",
        "    model.eval()\n",
        "    start_time = time.time()\n",
        "    inp = torch.from_numpy(test_x)\n",
        "    target = torch.from_numpy(test_y_clean)\n",
        "    labs_dist = torch.from_numpy(test_y)\n",
        "    target_measured = scaler_inv_transform(labs_dist.numpy())\n",
        "\n",
        "    if (model_type == 'GRU' or model_type == 'LSTM'):\n",
        "      h = model.init_hidden(inp.shape[0])\n",
        "      start_time = time.time()\n",
        "      out, _ = model(inp.to(device).float(), h)\n",
        "      stop_time = time.time()\n",
        "\n",
        "    elif model_type == 'TRANS':\n",
        "      src = inp[:,:enc_seq_len,:]\n",
        "      tgt = inp[:,-dec_seq_len:,:]\n",
        "      start_time = time.time()\n",
        "      out = model(src.to(device).float(), tgt.to(device).float(), src_mask=src_mask.to(device).float(), tgt_mask=tgt_mask.to(device).float())\n",
        "      stop_time = time.time()\n",
        "\n",
        "    else:\n",
        "      start_time = time.time()\n",
        "      out = model(inp.to(device).float())\n",
        "      stop_time = time.time()\n",
        "    \n",
        "    eval_time = stop_time - start_time\n",
        "    print(eval_time)\n",
        "\n",
        "    output = scaler_inv_transform(out.cpu().detach().numpy())\n",
        "    loss = criterion(torch.from_numpy(output)[:,-1,:], \n",
        "                     target[:,-1,:])\n",
        "    test_loss = loss.item()\n",
        "\n",
        "    target = target.numpy()\n",
        "    # NMSE in dB\n",
        "    nmse_db = 10*np.log10(np.mean((np.linalg.norm(target-output, axis=1)**2)/(np.linalg.norm(target,axis=1)**2)))\n",
        "    \n",
        "    if epoch == 150 and model_type == 'GRU':\n",
        "      pred_test = pd.DataFrame(np.append(output.T, target.T, axis=0).T, columns=['Predicted channel Re(1)', 'Predicted channel Im(1)', \n",
        "                                                                                 'True channel Re(1)', 'True channel Im(1)',])\n",
        "      df1 = pd.DataFrame()\n",
        "      df1['Prederr1'] = (pred_test['Predicted channel Re(1)']-pred_test['True channel Re(1)'])\n",
        "      df1['ImagPrederr1'] = (pred_test['Predicted channel Im(1)']-pred_test['True channel Im(1)'])\n",
        "      df2 = pd.DataFrame(df1.values.reshape(-1,1), columns=['Err'+str(i)])\n",
        "      df2.to_csv('drive/MyDrive/prediction_err_snr' + str(i) + '.csv')\n",
        "\n",
        "    if 0:#epoch%3 == 0:\n",
        "      # Plot channel tracker\n",
        "      a = 400\n",
        "      b = 800\n",
        "      step = 1\n",
        "      font = 18\n",
        "      #Validation data\n",
        "      #fig, ax = plt.subplots(figsize=[10, 8])\n",
        "      #ax.tick_params(labelsize=10)\n",
        "      #plt.plot(target_measured[a:b+a, 0], target_measured[a:b+a, 1], label='true channel noisy')\n",
        "      plt.plot(target_measured[a:b+a:step, 0], target_measured[a:b+a:step, 1], label='Measured channel')\n",
        "      plt.plot(output[a:b+a:step, 0], output[a:b+a:step, 1], label='predicted channel', c='r')\n",
        "      plt.plot(target[a:b+a:step, 0], target[a:b+a:step, 1], label='true channel', c='black')\n",
        "      plt.xlabel('Real part', fontsize=font)\n",
        "      plt.ylabel('Imaginary part', fontsize=font)\n",
        "      plt.legend(fontsize=10)\n",
        "      plt.yticks(fontsize=font)\n",
        "      plt.show()\n",
        "\n",
        "    #print(\"Evaluation Time: {}\".format(str(time.time()-start_time)))\n",
        "    #sMAPE = np.mean(abs(output-target)/(abs(target)+abs(output))/2)\n",
        "    #L1Loss = np.mean(abs(output-target))#**2)\n",
        "    #print(\"MSE: {}\".format(loss))\n",
        "\n",
        "    optimizer.zero_grad()\n",
        "    \n",
        "    return test_loss, nmse_db"
      ]
    },
    {
      "cell_type": "code",
      "execution_count": 19,
      "metadata": {
        "id": "T-6JYdbOKhl8"
      },
      "outputs": [],
      "source": [
        "def epoch_loop(model, train_loader, test_x, test_y, test_y_clean, epochs, lr_scheduler1, model_type = 'GRU'):\n",
        "  print('Started with ' + model_type)\n",
        "\n",
        "  training_loss = np.zeros([epochs])\n",
        "  validation_loss = np.zeros([epochs])\n",
        "  nmse_db = 100\n",
        "  start_time = time.time()\n",
        "  best_loss = 1\n",
        "\n",
        "\n",
        "\n",
        "  for epoch in range(1,epochs+1):\n",
        "    training_loss[epoch-1] = train(model, train_loader, model_type)\n",
        "    validation_loss[epoch-1], nmse_db1 = evaluate(model, test_x, test_y_clean, test_y, model_type, epoch)\n",
        "\n",
        "    if nmse_db1 < nmse_db:\n",
        "      nmse_db = nmse_db1\n",
        "\n",
        "    if 1:#epoch%10 == 0:\n",
        "      current_time = time.time()\n",
        "      print(\"Epoch {}/{} Done\".format(epoch, epochs))\n",
        "      print(\"Total Time Elapsed: %.2f minutes\" %((current_time-start_time)/60))\n",
        "      print(\"Training loss: %.6f \" %(training_loss[epoch-1]))\n",
        "      print(\"Validation loss: %.6f \" %(validation_loss[epoch-1]))\n",
        "\n",
        "    # save best model: here we save the model only for the lowest validation loss\n",
        "    #if validation_loss[epoch] < best_loss:\n",
        "    #    # Save model parameters\n",
        "    #    torch.save({'model': model.state_dict()}, 'model' + model_type + '.pth') \n",
        "    #    # Update best validation loss\n",
        "    #    best_loss = validation_loss[epoch]\n",
        "    #    # statement\n",
        "    #    print('Model saved')\n",
        "      \n",
        "    if lr_scheduler1:\n",
        "      #print('step')\n",
        "      lr_scheduler1.step()\n",
        "\n",
        "  return training_loss, validation_loss, nmse_db"
      ]
    },
    {
      "cell_type": "code",
      "execution_count": 20,
      "metadata": {
        "id": "L0SSj2ir4uoJ",
        "colab": {
          "base_uri": "https://localhost:8080/"
        },
        "outputId": "4a94f79b-3351-4338-93ce-b748c0784971"
      },
      "outputs": [
        {
          "output_type": "execute_result",
          "data": {
            "text/plain": [
              "<torch._C.Generator at 0x7fac4c193db0>"
            ]
          },
          "metadata": {},
          "execution_count": 20
        }
      ],
      "source": [
        "# set seed\n",
        "seed = 42\n",
        "np.random.seed(seed)\n",
        "torch.manual_seed(seed)"
      ]
    },
    {
      "cell_type": "code",
      "execution_count": 21,
      "metadata": {
        "id": "3zRX2N_wjWr1"
      },
      "outputs": [],
      "source": [
        "# TODO implement predictions for different horizons based on n previous samples without different steplengths.\n",
        "# TODO test a model trained with ue speed 20kmh on dataset with ue speed 3 kmh\n",
        "# TODO histogram over MSE for all horizons of GRU test predictions\n",
        "# TODO plot loss as function of lookback\n",
        "# COMPLETE run with test set from other subcarrier\n",
        "# COMPLETE let MLP and CNN have the same \"complexity\" as the RNN algorithms\n",
        "\n",
        "SNR_dB = 20\n",
        "lr_trans = 0.00008\n",
        "ts_step = np.array([14])\n",
        "horizons = np.array([14])#, 28, 42, 56, 70, 84, 98, 112, 126, 140, 154, 168, 196, 210])\n",
        "train_samples = 90000\n",
        "test_samples = 10000\n",
        "samples = 100000\n",
        "test_sc_offset = 100\n",
        "batch_size = 32 #32\n",
        "epochs = 50\n",
        "criterion = nn.MSELoss()\n",
        "\n",
        "file = 'drive/MyDrive/performance_SNR20_horizon_nM_test.csv'\n",
        "if os.path.isfile(file): # Add functionality for skipping if performance df is full\n",
        "  performance_df = pd.read_csv(file, index_col=0)\n",
        "  cols = list(performance_df.columns)\n",
        "  if len(performance_df.index) is not len(horizons):\n",
        "    mask = np.isin(horizons, np.array(performance_df.index))\n",
        "    diff = horizons[np.invert(mask)]\n",
        "    for d in diff:\n",
        "      performance_df.loc[d] = np.zeros(len(cols))\n",
        "else:\n",
        "  performance_df = pd.DataFrame(columns=['Outdated', 'MLP', 'CNN', 'GRU', 'LSTM', 'Transformer'], index=horizons)\n",
        "  for col in performance_df.columns:\n",
        "    performance_df[col].values[:] = 0\n",
        "\n",
        "file_nmse = 'drive/MyDrive/nmse_SNR20_horizon_nM_test.csv'\n",
        "if os.path.isfile(file_nmse): # Add functionality for skipping if performance df is full\n",
        "  nmse_df = pd.read_csv(file_nmse, index_col=0)\n",
        "  cols = list(nmse_df.columns)\n",
        "  if len(nmse_df.index) is not len(horizons):\n",
        "    mask = np.isin(horizons, np.array(nmse_df.index))\n",
        "    diff = horizons[np.invert(mask)]\n",
        "    for d in diff:\n",
        "      nmse_df.loc[d] = np.zeros(len(cols))\n",
        "else:\n",
        "  nmse_df = pd.DataFrame(columns=['GRU', 'LSTM', 'CNN', 'MLP', 'Transformer'], index=horizons)\n",
        "  for col in nmse_df.columns:\n",
        "    nmse_df[col].values[:] = 0\n"
      ]
    },
    {
      "cell_type": "code",
      "execution_count": 22,
      "metadata": {
        "id": "a_ZDDmmCEnW3"
      },
      "outputs": [],
      "source": [
        "training_loss_transformer =   np.zeros([len(horizons), epochs])\n",
        "validation_loss_transformer = np.zeros([len(horizons), epochs])\n",
        "nmse_transformer = np.zeros([len(horizons)])"
      ]
    },
    {
      "cell_type": "code",
      "source": [
        "## Model parameters\n",
        "dim_val = 128 #256 #512 # This can be any value divisible by n_heads. 512 is used in the original transformer paper.\n",
        "n_heads = 4 #8 # The number of attention heads (aka parallel attention layers). dim_val must be divisible by this number\n",
        "n_encoder_layers = 1# 4 # Number of times the encoder layer is stacked in the encoder\n",
        "n_decoder_layers = 1# 4 # Number of times the decoder layer is stacked in the decoder\n",
        "input_size = 2*MIMO # The number of input variables. 1 if univariate forecasting.\n",
        "enc_seq_len = 5 #4 # test 25 # length of input given to encoder. Can have any integer value.\n",
        "dec_seq_len = 2 #2 # test 5 # length of input given to decoder. Can have any integer value.\n",
        "max_seq_len = enc_seq_len # What's the longest sequence the model will encounter? Used to make the positional encoderdropout_encoder: float=0.2, "
      ],
      "metadata": {
        "id": "78_pCJNR9bRn"
      },
      "execution_count": 23,
      "outputs": []
    },
    {
      "cell_type": "code",
      "execution_count": 34,
      "metadata": {
        "colab": {
          "base_uri": "https://localhost:8080/",
          "height": 519
        },
        "id": "Zl3gIQn7qEHy",
        "outputId": "ec1a5dab-7b1e-4675-8ed7-d1c284fa5fb6"
      },
      "outputs": [
        {
          "output_type": "stream",
          "name": "stdout",
          "text": [
            "463874\n",
            "Started with TRANS\n",
            "0.003131866455078125\n",
            "Epoch 1/50 Done\n",
            "Total Time Elapsed: 0.40 minutes\n",
            "Training loss: 0.277403 \n",
            "Validation loss: 0.035725 \n"
          ]
        },
        {
          "output_type": "error",
          "ename": "KeyboardInterrupt",
          "evalue": "ignored",
          "traceback": [
            "\u001b[0;31m---------------------------------------------------------------------------\u001b[0m",
            "\u001b[0;31mKeyboardInterrupt\u001b[0m                         Traceback (most recent call last)",
            "\u001b[0;32m<ipython-input-34-e1d8ce8d5674>\u001b[0m in \u001b[0;36m<cell line: 3>\u001b[0;34m()\u001b[0m\n\u001b[1;32m     58\u001b[0m       \u001b[0mlr_scheduler\u001b[0m \u001b[0;34m=\u001b[0m \u001b[0mtorch\u001b[0m\u001b[0;34m.\u001b[0m\u001b[0moptim\u001b[0m\u001b[0;34m.\u001b[0m\u001b[0mlr_scheduler\u001b[0m\u001b[0;34m.\u001b[0m\u001b[0mMultiStepLR\u001b[0m\u001b[0;34m(\u001b[0m\u001b[0moptimizer\u001b[0m\u001b[0;34m,\u001b[0m \u001b[0mlist\u001b[0m\u001b[0;34m(\u001b[0m\u001b[0mnp\u001b[0m\u001b[0;34m.\u001b[0m\u001b[0marange\u001b[0m\u001b[0;34m(\u001b[0m\u001b[0mstart\u001b[0m\u001b[0;34m=\u001b[0m\u001b[0;36m10\u001b[0m\u001b[0;34m,\u001b[0m \u001b[0mstop\u001b[0m\u001b[0;34m=\u001b[0m\u001b[0;36m140\u001b[0m\u001b[0;34m,\u001b[0m \u001b[0mstep\u001b[0m\u001b[0;34m=\u001b[0m\u001b[0;36m5\u001b[0m\u001b[0;34m)\u001b[0m\u001b[0;34m)\u001b[0m\u001b[0;34m,\u001b[0m \u001b[0mgamma\u001b[0m\u001b[0;34m=\u001b[0m\u001b[0;36m0.8\u001b[0m\u001b[0;34m)\u001b[0m\u001b[0;34m\u001b[0m\u001b[0;34m\u001b[0m\u001b[0m\n\u001b[1;32m     59\u001b[0m       \u001b[0moptimizer\u001b[0m \u001b[0;34m=\u001b[0m \u001b[0mtorch\u001b[0m\u001b[0;34m.\u001b[0m\u001b[0moptim\u001b[0m\u001b[0;34m.\u001b[0m\u001b[0mAdam\u001b[0m\u001b[0;34m(\u001b[0m\u001b[0mtrans_model\u001b[0m\u001b[0;34m.\u001b[0m\u001b[0mparameters\u001b[0m\u001b[0;34m(\u001b[0m\u001b[0;34m)\u001b[0m\u001b[0;34m,\u001b[0m \u001b[0mlr\u001b[0m\u001b[0;34m=\u001b[0m\u001b[0mlr_trans\u001b[0m\u001b[0;34m)\u001b[0m\u001b[0;34m\u001b[0m\u001b[0;34m\u001b[0m\u001b[0m\n\u001b[0;32m---> 60\u001b[0;31m       training_loss_transformer[i, :], validation_loss_transformer[i, :], nmse_transformer[i] = epoch_loop(trans_model, train_loader, test_x, test_y, test_y_clean, \n\u001b[0m\u001b[1;32m     61\u001b[0m                                                                                                            epochs, lr_scheduler, model_type = 'TRANS')\n\u001b[1;32m     62\u001b[0m       \u001b[0mperformance_df\u001b[0m\u001b[0;34m.\u001b[0m\u001b[0mloc\u001b[0m\u001b[0;34m[\u001b[0m\u001b[0mhorizons\u001b[0m\u001b[0;34m[\u001b[0m\u001b[0mi\u001b[0m\u001b[0;34m]\u001b[0m\u001b[0;34m,\u001b[0m \u001b[0;34m'Transformer'\u001b[0m\u001b[0;34m]\u001b[0m \u001b[0;34m=\u001b[0m \u001b[0mmin\u001b[0m\u001b[0;34m(\u001b[0m\u001b[0mvalidation_loss_transformer\u001b[0m\u001b[0;34m[\u001b[0m\u001b[0mi\u001b[0m\u001b[0;34m,\u001b[0m \u001b[0;34m:\u001b[0m\u001b[0;34m]\u001b[0m\u001b[0;34m)\u001b[0m\u001b[0;34m\u001b[0m\u001b[0;34m\u001b[0m\u001b[0m\n",
            "\u001b[0;32m<ipython-input-19-23de1d590d0f>\u001b[0m in \u001b[0;36mepoch_loop\u001b[0;34m(model, train_loader, test_x, test_y, test_y_clean, epochs, lr_scheduler1, model_type)\u001b[0m\n\u001b[1;32m     11\u001b[0m \u001b[0;34m\u001b[0m\u001b[0m\n\u001b[1;32m     12\u001b[0m   \u001b[0;32mfor\u001b[0m \u001b[0mepoch\u001b[0m \u001b[0;32min\u001b[0m \u001b[0mrange\u001b[0m\u001b[0;34m(\u001b[0m\u001b[0;36m1\u001b[0m\u001b[0;34m,\u001b[0m\u001b[0mepochs\u001b[0m\u001b[0;34m+\u001b[0m\u001b[0;36m1\u001b[0m\u001b[0;34m)\u001b[0m\u001b[0;34m:\u001b[0m\u001b[0;34m\u001b[0m\u001b[0;34m\u001b[0m\u001b[0m\n\u001b[0;32m---> 13\u001b[0;31m     \u001b[0mtraining_loss\u001b[0m\u001b[0;34m[\u001b[0m\u001b[0mepoch\u001b[0m\u001b[0;34m-\u001b[0m\u001b[0;36m1\u001b[0m\u001b[0;34m]\u001b[0m \u001b[0;34m=\u001b[0m \u001b[0mtrain\u001b[0m\u001b[0;34m(\u001b[0m\u001b[0mmodel\u001b[0m\u001b[0;34m,\u001b[0m \u001b[0mtrain_loader\u001b[0m\u001b[0;34m,\u001b[0m \u001b[0mmodel_type\u001b[0m\u001b[0;34m)\u001b[0m\u001b[0;34m\u001b[0m\u001b[0;34m\u001b[0m\u001b[0m\n\u001b[0m\u001b[1;32m     14\u001b[0m     \u001b[0mvalidation_loss\u001b[0m\u001b[0;34m[\u001b[0m\u001b[0mepoch\u001b[0m\u001b[0;34m-\u001b[0m\u001b[0;36m1\u001b[0m\u001b[0;34m]\u001b[0m\u001b[0;34m,\u001b[0m \u001b[0mnmse_db1\u001b[0m \u001b[0;34m=\u001b[0m \u001b[0mevaluate\u001b[0m\u001b[0;34m(\u001b[0m\u001b[0mmodel\u001b[0m\u001b[0;34m,\u001b[0m \u001b[0mtest_x\u001b[0m\u001b[0;34m,\u001b[0m \u001b[0mtest_y_clean\u001b[0m\u001b[0;34m,\u001b[0m \u001b[0mtest_y\u001b[0m\u001b[0;34m,\u001b[0m \u001b[0mmodel_type\u001b[0m\u001b[0;34m,\u001b[0m \u001b[0mepoch\u001b[0m\u001b[0;34m)\u001b[0m\u001b[0;34m\u001b[0m\u001b[0;34m\u001b[0m\u001b[0m\n\u001b[1;32m     15\u001b[0m \u001b[0;34m\u001b[0m\u001b[0m\n",
            "\u001b[0;32m<ipython-input-17-03be4a4c1dd0>\u001b[0m in \u001b[0;36mtrain\u001b[0;34m(model, train_loader, model_type)\u001b[0m\n\u001b[1;32m     23\u001b[0m         \u001b[0mout\u001b[0m \u001b[0;34m=\u001b[0m \u001b[0mmodel\u001b[0m\u001b[0;34m(\u001b[0m\u001b[0msrc\u001b[0m\u001b[0;34m.\u001b[0m\u001b[0mto\u001b[0m\u001b[0;34m(\u001b[0m\u001b[0mdevice\u001b[0m\u001b[0;34m)\u001b[0m\u001b[0;34m.\u001b[0m\u001b[0mfloat\u001b[0m\u001b[0;34m(\u001b[0m\u001b[0;34m)\u001b[0m\u001b[0;34m,\u001b[0m \u001b[0mtgt\u001b[0m\u001b[0;34m.\u001b[0m\u001b[0mto\u001b[0m\u001b[0;34m(\u001b[0m\u001b[0mdevice\u001b[0m\u001b[0;34m)\u001b[0m\u001b[0;34m.\u001b[0m\u001b[0mfloat\u001b[0m\u001b[0;34m(\u001b[0m\u001b[0;34m)\u001b[0m\u001b[0;34m,\u001b[0m \u001b[0msrc_mask\u001b[0m\u001b[0;34m=\u001b[0m\u001b[0msrc_mask\u001b[0m\u001b[0;34m.\u001b[0m\u001b[0mto\u001b[0m\u001b[0;34m(\u001b[0m\u001b[0mdevice\u001b[0m\u001b[0;34m)\u001b[0m\u001b[0;34m.\u001b[0m\u001b[0mfloat\u001b[0m\u001b[0;34m(\u001b[0m\u001b[0;34m)\u001b[0m\u001b[0;34m,\u001b[0m \u001b[0mtgt_mask\u001b[0m\u001b[0;34m=\u001b[0m\u001b[0mtgt_mask\u001b[0m\u001b[0;34m.\u001b[0m\u001b[0mto\u001b[0m\u001b[0;34m(\u001b[0m\u001b[0mdevice\u001b[0m\u001b[0;34m)\u001b[0m\u001b[0;34m.\u001b[0m\u001b[0mfloat\u001b[0m\u001b[0;34m(\u001b[0m\u001b[0;34m)\u001b[0m\u001b[0;34m)\u001b[0m\u001b[0;34m\u001b[0m\u001b[0;34m\u001b[0m\u001b[0m\n\u001b[1;32m     24\u001b[0m         \u001b[0mloss\u001b[0m \u001b[0;34m=\u001b[0m \u001b[0mcriterion\u001b[0m\u001b[0;34m(\u001b[0m\u001b[0mout\u001b[0m\u001b[0;34m,\u001b[0m \u001b[0mlabel\u001b[0m\u001b[0;34m.\u001b[0m\u001b[0mto\u001b[0m\u001b[0;34m(\u001b[0m\u001b[0mdevice\u001b[0m\u001b[0;34m)\u001b[0m\u001b[0;34m.\u001b[0m\u001b[0mfloat\u001b[0m\u001b[0;34m(\u001b[0m\u001b[0;34m)\u001b[0m\u001b[0;34m)\u001b[0m\u001b[0;34m\u001b[0m\u001b[0;34m\u001b[0m\u001b[0m\n\u001b[0;32m---> 25\u001b[0;31m         \u001b[0mloss\u001b[0m\u001b[0;34m.\u001b[0m\u001b[0mbackward\u001b[0m\u001b[0;34m(\u001b[0m\u001b[0;34m)\u001b[0m\u001b[0;31m#retain_graph=True)\u001b[0m\u001b[0;34m\u001b[0m\u001b[0;34m\u001b[0m\u001b[0m\n\u001b[0m\u001b[1;32m     26\u001b[0m         \u001b[0moptimizer\u001b[0m\u001b[0;34m.\u001b[0m\u001b[0mstep\u001b[0m\u001b[0;34m(\u001b[0m\u001b[0;34m)\u001b[0m\u001b[0;34m\u001b[0m\u001b[0;34m\u001b[0m\u001b[0m\n\u001b[1;32m     27\u001b[0m         loss = criterion(torch.from_numpy(scaler_inv_transform(out.cpu().detach().numpy()))[:,-1,:], \n",
            "\u001b[0;32m/usr/local/lib/python3.10/dist-packages/torch/_tensor.py\u001b[0m in \u001b[0;36mbackward\u001b[0;34m(self, gradient, retain_graph, create_graph, inputs)\u001b[0m\n\u001b[1;32m    485\u001b[0m                 \u001b[0minputs\u001b[0m\u001b[0;34m=\u001b[0m\u001b[0minputs\u001b[0m\u001b[0;34m,\u001b[0m\u001b[0;34m\u001b[0m\u001b[0;34m\u001b[0m\u001b[0m\n\u001b[1;32m    486\u001b[0m             )\n\u001b[0;32m--> 487\u001b[0;31m         torch.autograd.backward(\n\u001b[0m\u001b[1;32m    488\u001b[0m             \u001b[0mself\u001b[0m\u001b[0;34m,\u001b[0m \u001b[0mgradient\u001b[0m\u001b[0;34m,\u001b[0m \u001b[0mretain_graph\u001b[0m\u001b[0;34m,\u001b[0m \u001b[0mcreate_graph\u001b[0m\u001b[0;34m,\u001b[0m \u001b[0minputs\u001b[0m\u001b[0;34m=\u001b[0m\u001b[0minputs\u001b[0m\u001b[0;34m\u001b[0m\u001b[0;34m\u001b[0m\u001b[0m\n\u001b[1;32m    489\u001b[0m         )\n",
            "\u001b[0;32m/usr/local/lib/python3.10/dist-packages/torch/autograd/__init__.py\u001b[0m in \u001b[0;36mbackward\u001b[0;34m(tensors, grad_tensors, retain_graph, create_graph, grad_variables, inputs)\u001b[0m\n\u001b[1;32m    198\u001b[0m     \u001b[0;31m# some Python versions print out the first line of a multi-line function\u001b[0m\u001b[0;34m\u001b[0m\u001b[0;34m\u001b[0m\u001b[0m\n\u001b[1;32m    199\u001b[0m     \u001b[0;31m# calls in the traceback and some print out the last line\u001b[0m\u001b[0;34m\u001b[0m\u001b[0;34m\u001b[0m\u001b[0m\n\u001b[0;32m--> 200\u001b[0;31m     Variable._execution_engine.run_backward(  # Calls into the C++ engine to run the backward pass\n\u001b[0m\u001b[1;32m    201\u001b[0m         \u001b[0mtensors\u001b[0m\u001b[0;34m,\u001b[0m \u001b[0mgrad_tensors_\u001b[0m\u001b[0;34m,\u001b[0m \u001b[0mretain_graph\u001b[0m\u001b[0;34m,\u001b[0m \u001b[0mcreate_graph\u001b[0m\u001b[0;34m,\u001b[0m \u001b[0minputs\u001b[0m\u001b[0;34m,\u001b[0m\u001b[0;34m\u001b[0m\u001b[0;34m\u001b[0m\u001b[0m\n\u001b[1;32m    202\u001b[0m         allow_unreachable=True, accumulate_grad=True)  # Calls into the C++ engine to run the backward pass\n",
            "\u001b[0;31mKeyboardInterrupt\u001b[0m: "
          ]
        }
      ],
      "source": [
        "# Implement more decoder sequences\n",
        "\n",
        "for i in range(len(horizons)):\n",
        "    output_sequence_length = int(horizons[i]/ts_step[0]) # Length of the target sequence, i.e. how many time steps should your forecast cover\n",
        "    # Creating dataset\n",
        "    train_x, train_y, train_y_clean = dataset_MIMO(H, H_noisy, ts_step[0], enc_seq_len, train_samples, 'TRANS', horizon=horizons[i], past=dec_seq_len-output_sequence_length)\n",
        "    test_x, test_y, test_y_clean = dataset_MIMO(H, H_noisy, ts_step[0], enc_seq_len, test_samples, 'TRANS', test_sc_offset, horizon=horizons[i], past=dec_seq_len-output_sequence_length)\n",
        "    X = np.append(np.append(train_x, test_x), np.append(train_y, test_y))\n",
        "    x_max = np.max(X)\n",
        "    x_min = np.min(X)\n",
        "    [train_x, train_y] = scaler_transform([train_x, train_y])\n",
        "    [test_x, test_y] = scaler_transform([test_x, test_y])\n",
        "    train_data = TensorDataset(torch.from_numpy(train_x), torch.from_numpy(train_y), torch.from_numpy(train_y_clean))\n",
        "    train_loader = DataLoader(train_data, batch_size=batch_size, drop_last=True, shuffle = False)\n",
        "    # Transfomers\n",
        "    if 1:\n",
        "      criterion = nn.MSELoss()\n",
        "      ## Model parameters\n",
        "      \n",
        "      \n",
        "      # Make src mask for decoder with size:\n",
        "      tgt_mask = generate_square_subsequent_mask(\n",
        "          dim1=dec_seq_len, #output_sequence_length,\n",
        "          dim2=dec_seq_len, #output_sequence_length\n",
        "         )\n",
        "      src_mask = generate_square_subsequent_mask(\n",
        "          dim1=dec_seq_len, #output_sequence_length,\n",
        "          dim2=enc_seq_len # Check memory mask and padding\n",
        "          )\n",
        "\n",
        "      trans_model = TimeSeriesTransformer(\n",
        "      dim_val=dim_val,\n",
        "      input_size=input_size, \n",
        "      dec_seq_len=dec_seq_len,\n",
        "      batch_first=True,\n",
        "      max_seq_len=max_seq_len,\n",
        "      out_seq_len=output_sequence_length, \n",
        "      n_decoder_layers=n_decoder_layers,\n",
        "      n_encoder_layers=n_encoder_layers,\n",
        "      n_heads=n_heads,\n",
        "      dropout_encoder=0.1, \n",
        "      dropout_decoder=0.1,\n",
        "      dropout_pos_enc=0.1,\n",
        "      dim_feedforward_encoder=512,#1024,\n",
        "      dim_feedforward_decoder=512)#)\n",
        "\n",
        "      trans_model.to(device)\n",
        "\n",
        "      pp=0\n",
        "      for p in list(trans_model.parameters()):\n",
        "        fn=1\n",
        "        for s in list(p.size()):\n",
        "            fn = fn*s\n",
        "        pp += fn\n",
        "      print(pp)\n",
        "\n",
        "      optimizer = torch.optim.Adam(trans_model.parameters(), lr=lr_trans)\n",
        "      lr_scheduler = torch.optim.lr_scheduler.MultiStepLR(optimizer, list(np.arange(start=10, stop=140, step=5)), gamma=0.8)\n",
        "      optimizer = torch.optim.Adam(trans_model.parameters(), lr=lr_trans)\n",
        "      training_loss_transformer[i, :], validation_loss_transformer[i, :], nmse_transformer[i] = epoch_loop(trans_model, train_loader, test_x, test_y, test_y_clean, \n",
        "                                                                                                           epochs, lr_scheduler, model_type = 'TRANS')\n",
        "      performance_df.loc[horizons[i], 'Transformer'] = min(validation_loss_transformer[i, :])\n",
        "      performance_df.to_csv(file)\n",
        "      nmse_df.loc[horizons[i], 'Transformer'] = nmse_transformer[i]\n",
        "      nmse_df.to_csv(file_nmse)\n",
        "\n",
        "    train_y = train_y[:,-1,:]\n",
        "    train_y_clean = train_y_clean[:,-1,:]\n",
        "    test_y = test_y[:,-1,:]\n",
        "    test_y_clean = test_y_clean[:,-1,:]\n",
        "\n",
        "    # Outdated\n",
        "    if 0:#not performance_df.loc[horizons[i], 'Outdated']:\n",
        "      performance_df.loc[horizons[i], 'Outdated'] = np.mean(abs(scaler_inv_transform(test_x[:, -2*MIMO:])-test_y_clean)**2)\n",
        "      performance_df.to_csv(file)\n",
        "      NMSE = (np.linalg.norm(scaler_inv_transform(test_x[:, -2*MIMO:])-test_y_clean, axis=1)**2)/(np.linalg.norm(test_y_clean, axis=1)**2)\n",
        "      nmse_df.loc[horizons[i], 'Outdated'] = 10*np.log10(np.mean(NMSE))\n",
        "      nmse_df.to_csv(file_nmse)\n",
        "\n",
        "    print('Sampling time ' + str(horizons[i]/14) + ' ms done.')"
      ]
    },
    {
      "cell_type": "code",
      "source": [
        "performance_df"
      ],
      "metadata": {
        "colab": {
          "base_uri": "https://localhost:8080/",
          "height": 81
        },
        "id": "e8cXm0jqzdeE",
        "outputId": "366b17f2-f426-4a3b-8281-c209827f66ff"
      },
      "execution_count": null,
      "outputs": [
        {
          "output_type": "execute_result",
          "data": {
            "text/plain": [
              "    Outdated  MLP  CNN       GRU  LSTM  Transformer\n",
              "14  0.018543    0    0  0.005914     0     0.025068"
            ],
            "text/html": [
              "\n",
              "  <div id=\"df-41fbb7e3-2f63-4143-811a-cbd8e2a078fc\">\n",
              "    <div class=\"colab-df-container\">\n",
              "      <div>\n",
              "<style scoped>\n",
              "    .dataframe tbody tr th:only-of-type {\n",
              "        vertical-align: middle;\n",
              "    }\n",
              "\n",
              "    .dataframe tbody tr th {\n",
              "        vertical-align: top;\n",
              "    }\n",
              "\n",
              "    .dataframe thead th {\n",
              "        text-align: right;\n",
              "    }\n",
              "</style>\n",
              "<table border=\"1\" class=\"dataframe\">\n",
              "  <thead>\n",
              "    <tr style=\"text-align: right;\">\n",
              "      <th></th>\n",
              "      <th>Outdated</th>\n",
              "      <th>MLP</th>\n",
              "      <th>CNN</th>\n",
              "      <th>GRU</th>\n",
              "      <th>LSTM</th>\n",
              "      <th>Transformer</th>\n",
              "    </tr>\n",
              "  </thead>\n",
              "  <tbody>\n",
              "    <tr>\n",
              "      <th>14</th>\n",
              "      <td>0.018543</td>\n",
              "      <td>0</td>\n",
              "      <td>0</td>\n",
              "      <td>0.005914</td>\n",
              "      <td>0</td>\n",
              "      <td>0.025068</td>\n",
              "    </tr>\n",
              "  </tbody>\n",
              "</table>\n",
              "</div>\n",
              "      <button class=\"colab-df-convert\" onclick=\"convertToInteractive('df-41fbb7e3-2f63-4143-811a-cbd8e2a078fc')\"\n",
              "              title=\"Convert this dataframe to an interactive table.\"\n",
              "              style=\"display:none;\">\n",
              "        \n",
              "  <svg xmlns=\"http://www.w3.org/2000/svg\" height=\"24px\"viewBox=\"0 0 24 24\"\n",
              "       width=\"24px\">\n",
              "    <path d=\"M0 0h24v24H0V0z\" fill=\"none\"/>\n",
              "    <path d=\"M18.56 5.44l.94 2.06.94-2.06 2.06-.94-2.06-.94-.94-2.06-.94 2.06-2.06.94zm-11 1L8.5 8.5l.94-2.06 2.06-.94-2.06-.94L8.5 2.5l-.94 2.06-2.06.94zm10 10l.94 2.06.94-2.06 2.06-.94-2.06-.94-.94-2.06-.94 2.06-2.06.94z\"/><path d=\"M17.41 7.96l-1.37-1.37c-.4-.4-.92-.59-1.43-.59-.52 0-1.04.2-1.43.59L10.3 9.45l-7.72 7.72c-.78.78-.78 2.05 0 2.83L4 21.41c.39.39.9.59 1.41.59.51 0 1.02-.2 1.41-.59l7.78-7.78 2.81-2.81c.8-.78.8-2.07 0-2.86zM5.41 20L4 18.59l7.72-7.72 1.47 1.35L5.41 20z\"/>\n",
              "  </svg>\n",
              "      </button>\n",
              "      \n",
              "  <style>\n",
              "    .colab-df-container {\n",
              "      display:flex;\n",
              "      flex-wrap:wrap;\n",
              "      gap: 12px;\n",
              "    }\n",
              "\n",
              "    .colab-df-convert {\n",
              "      background-color: #E8F0FE;\n",
              "      border: none;\n",
              "      border-radius: 50%;\n",
              "      cursor: pointer;\n",
              "      display: none;\n",
              "      fill: #1967D2;\n",
              "      height: 32px;\n",
              "      padding: 0 0 0 0;\n",
              "      width: 32px;\n",
              "    }\n",
              "\n",
              "    .colab-df-convert:hover {\n",
              "      background-color: #E2EBFA;\n",
              "      box-shadow: 0px 1px 2px rgba(60, 64, 67, 0.3), 0px 1px 3px 1px rgba(60, 64, 67, 0.15);\n",
              "      fill: #174EA6;\n",
              "    }\n",
              "\n",
              "    [theme=dark] .colab-df-convert {\n",
              "      background-color: #3B4455;\n",
              "      fill: #D2E3FC;\n",
              "    }\n",
              "\n",
              "    [theme=dark] .colab-df-convert:hover {\n",
              "      background-color: #434B5C;\n",
              "      box-shadow: 0px 1px 3px 1px rgba(0, 0, 0, 0.15);\n",
              "      filter: drop-shadow(0px 1px 2px rgba(0, 0, 0, 0.3));\n",
              "      fill: #FFFFFF;\n",
              "    }\n",
              "  </style>\n",
              "\n",
              "      <script>\n",
              "        const buttonEl =\n",
              "          document.querySelector('#df-41fbb7e3-2f63-4143-811a-cbd8e2a078fc button.colab-df-convert');\n",
              "        buttonEl.style.display =\n",
              "          google.colab.kernel.accessAllowed ? 'block' : 'none';\n",
              "\n",
              "        async function convertToInteractive(key) {\n",
              "          const element = document.querySelector('#df-41fbb7e3-2f63-4143-811a-cbd8e2a078fc');\n",
              "          const dataTable =\n",
              "            await google.colab.kernel.invokeFunction('convertToInteractive',\n",
              "                                                     [key], {});\n",
              "          if (!dataTable) return;\n",
              "\n",
              "          const docLinkHtml = 'Like what you see? Visit the ' +\n",
              "            '<a target=\"_blank\" href=https://colab.research.google.com/notebooks/data_table.ipynb>data table notebook</a>'\n",
              "            + ' to learn more about interactive tables.';\n",
              "          element.innerHTML = '';\n",
              "          dataTable['output_type'] = 'display_data';\n",
              "          await google.colab.output.renderOutput(dataTable, element);\n",
              "          const docLink = document.createElement('div');\n",
              "          docLink.innerHTML = docLinkHtml;\n",
              "          element.appendChild(docLink);\n",
              "        }\n",
              "      </script>\n",
              "    </div>\n",
              "  </div>\n",
              "  "
            ]
          },
          "metadata": {},
          "execution_count": 77
        }
      ]
    },
    {
      "cell_type": "markdown",
      "metadata": {
        "id": "bk5Ac3S8bvaJ"
      },
      "source": [
        "#Evalutation on training data"
      ]
    },
    {
      "cell_type": "code",
      "execution_count": null,
      "metadata": {
        "colab": {
          "base_uri": "https://localhost:8080/",
          "height": 283
        },
        "id": "oLNHWn0dSUaO",
        "outputId": "fd5daff0-ff02-47f9-9791-4bed26c7ff79"
      },
      "outputs": [
        {
          "output_type": "display_data",
          "data": {
            "text/plain": [
              "<Figure size 432x288 with 1 Axes>"
            ],
            "image/png": "[encoded data removed]"
          },
          "metadata": {
            "needs_background": "light"
          }
        }
      ],
      "source": [
        "p = 0\n",
        "fig, ax = plt.subplots()\n",
        "plt.plot(training_loss_transformer[p], label='Training')\n",
        "plt.plot(validation_loss_transformer[p], label='Validation')\n",
        "#plt.plot(training_loss_lstm, label='LSTM')\n",
        "#plt.plot(training_loss_mlp, label='MLP_training')\n",
        "#plt.plot(validation_loss_mlp, label='MLP_validation')\n",
        "#plt.plot(training_loss_cnn, label='CNN')\n",
        "plt.legend()\n",
        "plt.xlabel('Epochs')\n",
        "plt.ylabel('Error')\n",
        "#plt.axvline(np.where(validation_loss_gru[p] == min(validation_loss_gru[p])), c='black')\n",
        "ax.set_ylim([0,0.1])\n",
        "ax.set_xlim([0, 30])\n",
        "plt.show()"
      ]
    },
    {
      "cell_type": "markdown",
      "metadata": {
        "id": "n7iADEmD98Hh"
      },
      "source": [
        "#Evaluation on test data"
      ]
    },
    {
      "cell_type": "code",
      "execution_count": null,
      "metadata": {
        "id": "8j6jFCs0qs4b"
      },
      "outputs": [],
      "source": [
        "# Predict channel with gru model for test data\n",
        "inp = torch.from_numpy(np.array(test_x))\n",
        "src = inp[:,:enc_seq_len,:]\n",
        "tgt = inp[:,-dec_seq_len:,:]\n",
        "labs_dist = torch.from_numpy(np.array(test_y))\n",
        "labs_clean = torch.from_numpy(np.array(test_y_clean))\n",
        "#out = torch.zeros([inp.shape[0], inp.shape[2]])\n"
      ]
    },
    {
      "cell_type": "code",
      "source": [
        "#for i in range(inp.shape[0]):\n",
        "#  out[i] = trans_model(src[i].reshape(1,src.shape[1], src.shape[2]).to(device).float(), tgt[i].reshape(1, tgt.shape[1], tgt.shape[2]).to(device).float(), src_mask=src_mask.to(device).float(), tgt_mask=tgt_mask.to(device).float())\n",
        "out = trans_model(src.to(device).float(), tgt.to(device).float(), src_mask=src_mask.to(device).float(), tgt_mask=tgt_mask.to(device).float())\n",
        "output_test = scaler_inv_transform(out[:,-1,:].cpu().detach().numpy())#.reshape(-1)\n",
        "#output_test = out.cpu().detach().numpy()\n",
        "#target_test = scaler_inv_transform(labs_clean.numpy())\n",
        "target_test = labs_clean.numpy()\n",
        "target_measured = scaler_inv_transform(labs_dist.numpy())"
      ],
      "metadata": {
        "id": "Q6TIM_6ZDBO6"
      },
      "execution_count": null,
      "outputs": []
    },
    {
      "cell_type": "code",
      "source": [
        "out.shape"
      ],
      "metadata": {
        "colab": {
          "base_uri": "https://localhost:8080/"
        },
        "id": "pYtBWbeKLnHy",
        "outputId": "5e32aae2-d14c-4864-b14a-ce37e22eeb4d"
      },
      "execution_count": null,
      "outputs": [
        {
          "output_type": "execute_result",
          "data": {
            "text/plain": [
              "torch.Size([1000, 5, 2])"
            ]
          },
          "metadata": {},
          "execution_count": 52
        }
      ]
    },
    {
      "cell_type": "code",
      "execution_count": null,
      "metadata": {
        "id": "EGFxJqERw5oV"
      },
      "outputs": [],
      "source": [
        "# Save predictions for test set\n",
        "pred_test = pd.DataFrame(np.append(np.append(output_test.T, target_test.T, axis=0), target_measured.T, axis=0).T, \n",
        "                         columns=['Predicted channel Re(1)', 'Predicted channel Im(1)', \n",
        "                                  'True channel Re(1)', 'True channel Im(1)',\n",
        "                                  'Measured channel Re(1)', 'Measured channel Im(1)'])\n",
        "\n",
        "pred_test.to_csv('drive/MyDrive/prediction_snr_test1.csv')"
      ]
    },
    {
      "cell_type": "code",
      "execution_count": null,
      "metadata": {
        "id": "76-VSvEkosSZ"
      },
      "outputs": [],
      "source": [
        "df1 = pd.DataFrame()\n",
        "df1['Prederr1'] = (pred_test['Predicted channel Re(1)']-pred_test['True channel Re(1)'])\n",
        "df1['Prederr2'] = (pred_test['Predicted channel Re(2)']-pred_test['True channel Re(2)'])\n",
        "df1['Prederr3'] = (pred_test['Predicted channel Re(3)']-pred_test['True channel Re(3)'])\n",
        "df1['Prederr4'] = (pred_test['Predicted channel Re(4)']-pred_test['True channel Re(4)'])\n",
        "df1['ImagPrederr1'] = (pred_test['Predicted channel Im(1)']-pred_test['True channel Im(1)'])\n",
        "df1['ImagPrederr2'] = (pred_test['Predicted channel Im(2)']-pred_test['True channel Im(2)'])\n",
        "df1['ImagPrederr3'] = (pred_test['Predicted channel Im(3)']-pred_test['True channel Im(3)'])\n",
        "df1['ImagPrederr4'] = (pred_test['Predicted channel Im(4)']-pred_test['True channel Im(4)'])"
      ]
    },
    {
      "cell_type": "code",
      "execution_count": null,
      "metadata": {
        "colab": {
          "base_uri": "https://localhost:8080/",
          "height": 282
        },
        "id": "cGmoV3uhofmZ",
        "outputId": "08eafa14-1f9a-400b-83ae-5505203abcdf"
      },
      "outputs": [
        {
          "data": {
            "text/plain": [
              "<matplotlib.axes._subplots.AxesSubplot at 0x7f4be5d3ed90>"
            ]
          },
          "execution_count": 60,
          "metadata": {},
          "output_type": "execute_result"
        },
        {
          "data": {
            "image/png": "[encoded data removed]",
            "text/plain": [
              "<Figure size 432x288 with 1 Axes>"
            ]
          },
          "metadata": {},
          "output_type": "display_data"
        }
      ],
      "source": [
        "sns.histplot(data=df2)#, cumulative=True)"
      ]
    },
    {
      "cell_type": "code",
      "execution_count": null,
      "metadata": {
        "colab": {
          "base_uri": "https://localhost:8080/"
        },
        "id": "txgwFVbeylfy",
        "outputId": "60c022db-4dab-4510-e39d-b394e3ddb3b3"
      },
      "outputs": [
        {
          "output_type": "execute_result",
          "data": {
            "text/plain": [
              "0.005011336333325963"
            ]
          },
          "metadata": {},
          "execution_count": 51
        }
      ],
      "source": [
        "np.mean((target_measured[1:]-target_test[:-1])**2)"
      ]
    },
    {
      "cell_type": "code",
      "source": [
        "np.mean((target_measured-target_test)**2)"
      ],
      "metadata": {
        "colab": {
          "base_uri": "https://localhost:8080/"
        },
        "id": "pNRox1okI0Is",
        "outputId": "43c649b4-0af0-4f5e-b03a-995c653bc3d9"
      },
      "execution_count": null,
      "outputs": [
        {
          "output_type": "execute_result",
          "data": {
            "text/plain": [
              "0.004941112595238321"
            ]
          },
          "metadata": {},
          "execution_count": 52
        }
      ]
    },
    {
      "cell_type": "code",
      "source": [
        "np.mean((output_test-target_test)**2)"
      ],
      "metadata": {
        "colab": {
          "base_uri": "https://localhost:8080/"
        },
        "id": "u4NpQnmYIgKd",
        "outputId": "1d834884-51ef-4c2d-bcb4-70ab14dc5eb1"
      },
      "execution_count": null,
      "outputs": [
        {
          "output_type": "execute_result",
          "data": {
            "text/plain": [
              "0.009095690156476856"
            ]
          },
          "metadata": {},
          "execution_count": 53
        }
      ]
    },
    {
      "cell_type": "code",
      "source": [
        "np.mean((output_test-target_measured)**2)"
      ],
      "metadata": {
        "colab": {
          "base_uri": "https://localhost:8080/"
        },
        "id": "AtubNuX9JDyl",
        "outputId": "233e9397-d3f8-4f61-f79a-e51ae9566961"
      },
      "execution_count": null,
      "outputs": [
        {
          "output_type": "execute_result",
          "data": {
            "text/plain": [
              "0.014070102503479962"
            ]
          },
          "metadata": {},
          "execution_count": 55
        }
      ]
    },
    {
      "cell_type": "code",
      "execution_count": null,
      "metadata": {
        "colab": {
          "base_uri": "https://localhost:8080/",
          "height": 497
        },
        "id": "I382qoKCsaNe",
        "outputId": "c9b8a83a-313a-4ec0-ece8-c98c52654677"
      },
      "outputs": [
        {
          "output_type": "display_data",
          "data": {
            "text/plain": [
              "<Figure size 720x576 with 1 Axes>"
            ],
            "image/png": "[encoded data removed]"
          },
          "metadata": {
            "needs_background": "light"
          }
        }
      ],
      "source": [
        "#Validation data\n",
        "fig, ax = plt.subplots(figsize=(10,8))\n",
        "plt.plot(target_measured[:, 1], label='Measured channel')\n",
        "plt.plot(output_test[:, 1], label='Prediction', c='red', alpha=0.5)\n",
        "plt.plot(target_test[:, 1], label='Target', c='black')\n",
        "#plt.plot(20+np.linspace(0,len(ma_test),len(ma_test)), ma_test, label='Target', c='purple')\n",
        "plt.legend()\n",
        "plt.xlim([900, 1000])\n",
        "#plt.ylim([-0.9, -0.2])\n",
        "plt.xlabel('Test samples')\n",
        "plt.show()"
      ]
    },
    {
      "cell_type": "code",
      "execution_count": null,
      "metadata": {
        "colab": {
          "base_uri": "https://localhost:8080/",
          "height": 497
        },
        "id": "LFAbwPoyqRuL",
        "outputId": "cff43027-e254-4ffb-d3e5-d6b6e5edeaff"
      },
      "outputs": [
        {
          "data": {
            "image/png": "[encoded data removed]",
            "text/plain": [
              "<Figure size 720x576 with 1 Axes>"
            ]
          },
          "metadata": {},
          "output_type": "display_data"
        }
      ],
      "source": [
        "#Validation data\n",
        "M = 1\n",
        "fig, ax = plt.subplots(figsize=(10,8))\n",
        "plt.plot(np.linspace(-31, 19), sc.inverse_transform(test_x[20,: ,M].reshape(-1,1)))\n",
        "plt.plot(target_measured[:, M], label='Measured channel')\n",
        "plt.plot(output_test[:, M], label='Prediction', c='red', alpha=0.5)\n",
        "plt.plot(target_test[:, M], label='Target', c='black')\n",
        "#plt.plot(20+np.linspace(0,len(ma_test),len(ma_test)), ma_test, label='Target', c='purple')\n",
        "plt.legend()\n",
        "plt.xlim([-50, 100])\n",
        "#plt.ylim([-0.9, -0.2])\n",
        "plt.xlabel('Test samples')\n",
        "plt.show()"
      ]
    },
    {
      "cell_type": "code",
      "execution_count": null,
      "metadata": {
        "colab": {
          "base_uri": "https://localhost:8080/"
        },
        "id": "7EtNL9-69fi3",
        "outputId": "c71f9ce0-ac27-4303-96fb-3947c69e0810"
      },
      "outputs": [
        {
          "name": "stdout",
          "output_type": "stream",
          "text": [
            "0.2782929837703705\n",
            "1.5625143051147459\n",
            "0.122781746\n",
            "1.5785087\n"
          ]
        }
      ],
      "source": [
        "print(target_test[0, 0])\n",
        "print(target_test[0, 1])\n",
        "print(output_test[0, 0])\n",
        "print(output_test[0, 1])"
      ]
    },
    {
      "cell_type": "code",
      "execution_count": null,
      "metadata": {
        "id": "Rr9tE8yD9fi3",
        "outputId": "cd83c389-d289-4013-d77f-a5a49b3211ae"
      },
      "outputs": [
        {
          "data": {
            "image/png": "[encoded data removed]",
            "text/plain": "<Figure size 432x288 with 1 Axes>"
          },
          "metadata": {},
          "output_type": "display_data"
        }
      ],
      "source": [
        "#Validation data\n",
        "plt.plot(output_test[:, 0], label='Prediction')\n",
        "plt.plot(target_test[:, 0], label='Target')\n",
        "plt.legend()\n",
        "plt.xlim([5700, 6300])\n",
        "plt.ylim([-1.0, 1.0])\n",
        "plt.xlabel('Test samples')\n",
        "plt.show()"
      ]
    },
    {
      "cell_type": "code",
      "execution_count": null,
      "metadata": {
        "colab": {
          "base_uri": "https://localhost:8080/"
        },
        "id": "ptYBhf4wxR8e",
        "outputId": "c588ae7b-1ed5-45ef-d5a8-39ddddda3b34"
      },
      "outputs": [
        {
          "data": {
            "text/plain": [
              "0.07182231906449153"
            ]
          },
          "execution_count": 49,
          "metadata": {},
          "output_type": "execute_result"
        }
      ],
      "source": [
        "target_measured[:-1, c][-1]"
      ]
    },
    {
      "cell_type": "code",
      "execution_count": null,
      "metadata": {
        "colab": {
          "base_uri": "https://localhost:8080/"
        },
        "id": "mnvypkyVxVQQ",
        "outputId": "7c739a8c-3976-47a1-c0d5-020e160ec50f"
      },
      "outputs": [
        {
          "data": {
            "text/plain": [
              "-0.0036327738416374305"
            ]
          },
          "execution_count": 52,
          "metadata": {},
          "output_type": "execute_result"
        }
      ],
      "source": [
        "target_measured[:, c][-1]"
      ]
    },
    {
      "cell_type": "code",
      "execution_count": null,
      "metadata": {
        "colab": {
          "base_uri": "https://localhost:8080/"
        },
        "id": "jvg-GiRNmhN7",
        "outputId": "e08a718e-3d1c-4a7a-cfe5-fbc5670b2375"
      },
      "outputs": [
        {
          "name": "stdout",
          "output_type": "stream",
          "text": [
            "0.004894085096240301\n"
          ]
        }
      ],
      "source": [
        "c=1\n",
        "print(np.mean((target_measured[:-1, c]-target_test[1:, c])**2))"
      ]
    },
    {
      "cell_type": "code",
      "execution_count": null,
      "metadata": {
        "colab": {
          "base_uri": "https://localhost:8080/"
        },
        "id": "N7C5Vzy8kWtg",
        "outputId": "c52886f8-2da0-46b9-9bff-e84d8c84bacd"
      },
      "outputs": [
        {
          "data": {
            "text/plain": [
              "0.0047858979097917045"
            ]
          },
          "execution_count": 84,
          "metadata": {},
          "output_type": "execute_result"
        }
      ],
      "source": [
        "np.mean((target_measured[:, c]-target_test[:, c])**2)"
      ]
    },
    {
      "cell_type": "code",
      "execution_count": null,
      "metadata": {
        "colab": {
          "base_uri": "https://localhost:8080/"
        },
        "id": "c4uAa4udkp-t",
        "outputId": "85be1adf-67bb-4541-ad72-9fea1f747a9f"
      },
      "outputs": [
        {
          "data": {
            "text/plain": [
              "0.006745950423091992"
            ]
          },
          "execution_count": 44,
          "metadata": {},
          "output_type": "execute_result"
        }
      ],
      "source": [
        "np.mean((output_test[:, c]-target_test[:, c])**2)"
      ]
    },
    {
      "cell_type": "code",
      "execution_count": null,
      "metadata": {
        "colab": {
          "base_uri": "https://localhost:8080/",
          "height": 505
        },
        "id": "BfRxF6tsrTy2",
        "outputId": "bafd0625-4c99-4df7-ee2f-8cdb79e97d36"
      },
      "outputs": [
        {
          "output_type": "display_data",
          "data": {
            "text/plain": [
              "<Figure size 720x576 with 1 Axes>"
            ],
            "image/png": "[encoded data removed]"
          },
          "metadata": {
            "needs_background": "light"
          }
        }
      ],
      "source": [
        "# Plot channel tracker\n",
        "#a = 5000\n",
        "#b = 1000\n",
        "a = 450\n",
        "b = 100\n",
        "step = 14\n",
        "font = 18\n",
        "#Validation data\n",
        "fig, ax = plt.subplots(figsize=[10, 8])\n",
        "ax.tick_params(labelsize=10)\n",
        "plt.plot(target_measured[a:b+a:step, 0], target_measured[a:b+a:step, 1], label='measured channel noisy')\n",
        "plt.plot(output_test[a:b+a:step, 0], output_test[a:b+a:step, 1], label='predicted channel', c='r', alpha=0.8)\n",
        "plt.plot(target_test[a:b+a:step, 0], target_test[a:b+a:step, 1], label='true channel', c='black')\n",
        "\n",
        "#plt.scatter((output_test[a, 0]+target_test[a, 0])/2, (output_test[a, 1]+target_test[a, 1])/2, label='sequence start', c='g', s=100)\n",
        "#plt.scatter((output_test[b-1+a, 0]+target_test[b-1+a, 0])/2, (output_test[b-1+a, 1]+target_test[b-1+a, 1])/2, label='sequence stop', c='r', s=100)\n",
        "#plt.xlim([0.575, 0.6])\n",
        "#plt.ylim([1, 1.5])\n",
        "\n",
        "plt.xlabel('Real part', fontsize=font)\n",
        "plt.ylabel('Imaginary part', fontsize=font)\n",
        "#plt.legend(fontsize=10)\n",
        "#plt.xticks([-2,-1, 0, 1, 2], fontsize=font)\n",
        "#plt.xlim([-2,2])\n",
        "plt.yticks(fontsize=font)\n",
        "plt.legend()\n",
        "\n",
        "plt.show()"
      ]
    },
    {
      "cell_type": "code",
      "execution_count": null,
      "metadata": {
        "id": "8eDDyT_0wcKw"
      },
      "outputs": [],
      "source": []
    },
    {
      "cell_type": "code",
      "execution_count": null,
      "metadata": {
        "colab": {
          "base_uri": "https://localhost:8080/",
          "height": 301
        },
        "id": "sTQSx8_WNwPB",
        "outputId": "a3efe864-a4fa-43e6-c2a9-6a8fdcf6d2b0"
      },
      "outputs": [
        {
          "data": {
            "text/plain": [
              "Text(0.5, 0, 'Test samples')"
            ]
          },
          "execution_count": 110,
          "metadata": {},
          "output_type": "execute_result"
        },
        {
          "data": {
            "image/png": "[encoded data removed]",
            "text/plain": [
              "<Figure size 432x288 with 1 Axes>"
            ]
          },
          "metadata": {},
          "output_type": "display_data"
        }
      ],
      "source": [
        "#Validation data\n",
        "plt.plot(output_test[:, 0])\n",
        "plt.plot(target_test[:, 0])\n",
        "plt.xlim([5700, 6300])\n",
        "plt.ylim([-0.9, -0.2])\n",
        "plt.xlabel('Test samples')\n",
        "#plt.legend(['output_real_1', 'target_real_1'])#, 'target_real_3', 'target_imag_3', 'target_real_4', 'target_imag_4'])"
      ]
    },
    {
      "cell_type": "code",
      "execution_count": null,
      "metadata": {
        "colab": {
          "base_uri": "https://localhost:8080/",
          "height": 279
        },
        "id": "Y9jvkP1JbKWV",
        "outputId": "d9c78c85-e858-4189-d21b-bd4501a014e3"
      },
      "outputs": [
        {
          "data": {
            "image/png": "[encoded data removed]",
            "text/plain": [
              "<Figure size 432x288 with 1 Axes>"
            ]
          },
          "metadata": {},
          "output_type": "display_data"
        }
      ],
      "source": [
        "#Validation data\n",
        "plt.plot(opt[:,0])\n",
        "plt.plot(tgt[:,0])\n",
        "#plt.xlim([4000, 5000])\n",
        "#plt.ylim([-2.2, -1.9])\n",
        "plt.xlabel('Test samples')\n",
        "#plt.legend(['output_real_1', 'target_real_1'])#, 'target_real_3', 'target_imag_3', 'target_real_4', 'target_imag_4'])\n",
        "plt.show()"
      ]
    },
    {
      "cell_type": "code",
      "execution_count": null,
      "metadata": {
        "colab": {
          "base_uri": "https://localhost:8080/",
          "height": 296
        },
        "id": "UDMh1tDUi1r4",
        "outputId": "7c4c452b-5357-4363-f7e4-25df7d6143ee"
      },
      "outputs": [
        {
          "data": {
            "text/plain": [
              "Text(0, 0.5, 'MSE')"
            ]
          },
          "execution_count": 99,
          "metadata": {},
          "output_type": "execute_result"
        },
        {
          "data": {
            "image/png": "[encoded data removed]",
            "text/plain": [
              "<Figure size 432x288 with 1 Axes>"
            ]
          },
          "metadata": {},
          "output_type": "display_data"
        }
      ],
      "source": [
        "# Plot absolute prediction errors for all antenna arrays\n",
        "lo = plt.plot(abs(output_test-target_test)**2)\n",
        "plt.legend(lo, ('Re[H11]', 'Im[H11]', '3', '4', '5', '6', '7', '8'))\n",
        "plt.plot()\n",
        "#plt.xlim([3450, 3525])\n",
        "#plt.ylim([0, 0.005])\n",
        "plt.xlabel('Test samples')\n",
        "plt.ylabel('MSE')"
      ]
    },
    {
      "cell_type": "code",
      "execution_count": null,
      "metadata": {
        "colab": {
          "base_uri": "https://localhost:8080/",
          "height": 299
        },
        "id": "N8qz-DZfc91D",
        "outputId": "fb870f5f-badc-4dcb-8370-bc65f09803c0"
      },
      "outputs": [
        {
          "data": {
            "text/plain": [
              "Text(0, 0.5, 'Frequency')"
            ]
          },
          "execution_count": 131,
          "metadata": {},
          "output_type": "execute_result"
        },
        {
          "data": {
            "image/png": "[encoded data removed]",
            "text/plain": [
              "<Figure size 432x288 with 1 Axes>"
            ]
          },
          "metadata": {},
          "output_type": "display_data"
        }
      ],
      "source": [
        "# Histogram for the absolute prediction error\n",
        "plt.hist((output_test-target_test).flatten(), 90)\n",
        "plt.xlim([-0.01, 0.01])\n",
        "plt.xlabel('Predictive error')\n",
        "plt.ylabel('Frequency')"
      ]
    },
    {
      "cell_type": "markdown",
      "metadata": {
        "id": "wpCSk4xB-KsH"
      },
      "source": [
        "#Test for dataset generating process"
      ]
    },
    {
      "cell_type": "code",
      "execution_count": null,
      "metadata": {
        "id": "ftEGi12HH9Ti"
      },
      "outputs": [],
      "source": [
        "# Initializations for tests below\n",
        "lookback=4\n",
        "step = 1\n",
        "t=42000\n",
        "inputs, labels = dataset_MIMO(70, 4, 100000)"
      ]
    },
    {
      "cell_type": "code",
      "execution_count": null,
      "metadata": {
        "id": "Oj-DBCRSgH_n"
      },
      "outputs": [],
      "source": [
        "# Test\n",
        "# To see if function dataset_MIMO works properly. (Not MLP)\n",
        "train_x1, train_y1, test_x1, test_y1 = dataset_MIMO(3, lookback, samples, 'GRU')\n",
        "test1 = train_y1[(t-lookback)*2]\n",
        "check = np.array([])\n",
        "for m in range(MIMO*2) :\n",
        "  check = np.append(check, train_x1[(t-lookback)*2+step, lookback-1, m])\n",
        "\n",
        "np.array_equal(check, test1)\n"
      ]
    },
    {
      "cell_type": "code",
      "execution_count": null,
      "metadata": {
        "id": "ep7QY5kzMdZO"
      },
      "outputs": [],
      "source": [
        "# Test\n",
        "# To see if function dataset_MIMO works properly. (MLP)\n",
        "train_x, train_y, test_x, test_y = train_test_split(inputs, labels, 'MLP')\n",
        "test2 = train_y[(t-lookback)*2]\n",
        "check = train_x[(t-lookback)*2+1, -8:]\n",
        "np.array_equal(check, test2)"
      ]
    },
    {
      "cell_type": "code",
      "execution_count": null,
      "metadata": {
        "id": "t0G4Nv9P9fi-"
      },
      "outputs": [],
      "source": [
        "# Loading the best model\n",
        "ckpt = torch.load('model2.pth', map_location=lambda storage, loc: storage)\n",
        "best_model = GRUNet(8, hidden[0], 8, 3)\n",
        "best_model.load_state_dict(ckpt['model'])\n",
        "# put model on device\n",
        "best_model.to(device=device)"
      ]
    }
  ],
  "metadata": {
    "colab": {
      "provenance": [],
      "collapsed_sections": [
        "bk5Ac3S8bvaJ",
        "n7iADEmD98Hh",
        "wpCSk4xB-KsH"
      ]
    },
    "gpuClass": "standard",
    "kernelspec": {
      "display_name": "Python 3",
      "language": "python",
      "name": "python3"
    },
    "language_info": {
      "name": "python",
      "version": "3.8.3-final"
    },
    "accelerator": "GPU"
  },
  "nbformat": 4,
  "nbformat_minor": 0
}